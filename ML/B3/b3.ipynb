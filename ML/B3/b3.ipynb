{
 "cells": [
  {
   "cell_type": "code",
   "execution_count": 1,
   "id": "a740f321-1f98-4bf8-8f39-214b6c616d97",
   "metadata": {},
   "outputs": [],
   "source": [
    "import numpy as np\n",
    "import pandas as pd\n",
    "import seaborn as sns\n",
    "import matplotlib.pyplot as plt"
   ]
  },
  {
   "cell_type": "code",
   "execution_count": 2,
   "id": "545be866-8dd3-400f-80b6-d7f5ea7f995c",
   "metadata": {},
   "outputs": [],
   "source": [
    "df = pd.read_csv(\"churn_modelling.csv\")"
   ]
  },
  {
   "cell_type": "code",
   "execution_count": 3,
   "id": "2a6ba2c4-214c-4e00-9efb-7d2253a16e99",
   "metadata": {},
   "outputs": [
    {
     "data": {
      "text/html": [
       "<div>\n",
       "<style scoped>\n",
       "    .dataframe tbody tr th:only-of-type {\n",
       "        vertical-align: middle;\n",
       "    }\n",
       "\n",
       "    .dataframe tbody tr th {\n",
       "        vertical-align: top;\n",
       "    }\n",
       "\n",
       "    .dataframe thead th {\n",
       "        text-align: right;\n",
       "    }\n",
       "</style>\n",
       "<table border=\"1\" class=\"dataframe\">\n",
       "  <thead>\n",
       "    <tr style=\"text-align: right;\">\n",
       "      <th></th>\n",
       "      <th>RowNumber</th>\n",
       "      <th>CustomerId</th>\n",
       "      <th>Surname</th>\n",
       "      <th>CreditScore</th>\n",
       "      <th>Geography</th>\n",
       "      <th>Gender</th>\n",
       "      <th>Age</th>\n",
       "      <th>Tenure</th>\n",
       "      <th>Balance</th>\n",
       "      <th>NumOfProducts</th>\n",
       "      <th>HasCrCard</th>\n",
       "      <th>IsActiveMember</th>\n",
       "      <th>EstimatedSalary</th>\n",
       "      <th>Exited</th>\n",
       "    </tr>\n",
       "  </thead>\n",
       "  <tbody>\n",
       "    <tr>\n",
       "      <th>0</th>\n",
       "      <td>1</td>\n",
       "      <td>15634602</td>\n",
       "      <td>Hargrave</td>\n",
       "      <td>619</td>\n",
       "      <td>France</td>\n",
       "      <td>Female</td>\n",
       "      <td>42</td>\n",
       "      <td>2</td>\n",
       "      <td>0.00</td>\n",
       "      <td>1</td>\n",
       "      <td>1</td>\n",
       "      <td>1</td>\n",
       "      <td>101348.88</td>\n",
       "      <td>1</td>\n",
       "    </tr>\n",
       "    <tr>\n",
       "      <th>1</th>\n",
       "      <td>2</td>\n",
       "      <td>15647311</td>\n",
       "      <td>Hill</td>\n",
       "      <td>608</td>\n",
       "      <td>Spain</td>\n",
       "      <td>Female</td>\n",
       "      <td>41</td>\n",
       "      <td>1</td>\n",
       "      <td>83807.86</td>\n",
       "      <td>1</td>\n",
       "      <td>0</td>\n",
       "      <td>1</td>\n",
       "      <td>112542.58</td>\n",
       "      <td>0</td>\n",
       "    </tr>\n",
       "    <tr>\n",
       "      <th>2</th>\n",
       "      <td>3</td>\n",
       "      <td>15619304</td>\n",
       "      <td>Onio</td>\n",
       "      <td>502</td>\n",
       "      <td>France</td>\n",
       "      <td>Female</td>\n",
       "      <td>42</td>\n",
       "      <td>8</td>\n",
       "      <td>159660.80</td>\n",
       "      <td>3</td>\n",
       "      <td>1</td>\n",
       "      <td>0</td>\n",
       "      <td>113931.57</td>\n",
       "      <td>1</td>\n",
       "    </tr>\n",
       "    <tr>\n",
       "      <th>3</th>\n",
       "      <td>4</td>\n",
       "      <td>15701354</td>\n",
       "      <td>Boni</td>\n",
       "      <td>699</td>\n",
       "      <td>France</td>\n",
       "      <td>Female</td>\n",
       "      <td>39</td>\n",
       "      <td>1</td>\n",
       "      <td>0.00</td>\n",
       "      <td>2</td>\n",
       "      <td>0</td>\n",
       "      <td>0</td>\n",
       "      <td>93826.63</td>\n",
       "      <td>0</td>\n",
       "    </tr>\n",
       "    <tr>\n",
       "      <th>4</th>\n",
       "      <td>5</td>\n",
       "      <td>15737888</td>\n",
       "      <td>Mitchell</td>\n",
       "      <td>850</td>\n",
       "      <td>Spain</td>\n",
       "      <td>Female</td>\n",
       "      <td>43</td>\n",
       "      <td>2</td>\n",
       "      <td>125510.82</td>\n",
       "      <td>1</td>\n",
       "      <td>1</td>\n",
       "      <td>1</td>\n",
       "      <td>79084.10</td>\n",
       "      <td>0</td>\n",
       "    </tr>\n",
       "  </tbody>\n",
       "</table>\n",
       "</div>"
      ],
      "text/plain": [
       "   RowNumber  CustomerId   Surname  CreditScore Geography  Gender  Age  \\\n",
       "0          1    15634602  Hargrave          619    France  Female   42   \n",
       "1          2    15647311      Hill          608     Spain  Female   41   \n",
       "2          3    15619304      Onio          502    France  Female   42   \n",
       "3          4    15701354      Boni          699    France  Female   39   \n",
       "4          5    15737888  Mitchell          850     Spain  Female   43   \n",
       "\n",
       "   Tenure    Balance  NumOfProducts  HasCrCard  IsActiveMember  \\\n",
       "0       2       0.00              1          1               1   \n",
       "1       1   83807.86              1          0               1   \n",
       "2       8  159660.80              3          1               0   \n",
       "3       1       0.00              2          0               0   \n",
       "4       2  125510.82              1          1               1   \n",
       "\n",
       "   EstimatedSalary  Exited  \n",
       "0        101348.88       1  \n",
       "1        112542.58       0  \n",
       "2        113931.57       1  \n",
       "3         93826.63       0  \n",
       "4         79084.10       0  "
      ]
     },
     "execution_count": 3,
     "metadata": {},
     "output_type": "execute_result"
    }
   ],
   "source": [
    "df.head()"
   ]
  },
  {
   "cell_type": "code",
   "execution_count": 4,
   "id": "98e3e903-2e39-403d-b229-d87599d3fc4c",
   "metadata": {},
   "outputs": [],
   "source": [
    "df = df.drop([\"RowNumber\", \"CustomerId\", \"Surname\"], axis = 1)"
   ]
  },
  {
   "cell_type": "code",
   "execution_count": 6,
   "id": "eb0063e0-a829-437a-878c-a9b1a638bfee",
   "metadata": {},
   "outputs": [],
   "source": [
    "df = pd.get_dummies(df, columns = [\"Gender\", \"Geography\"], drop_first = True)"
   ]
  },
  {
   "cell_type": "code",
   "execution_count": 7,
   "id": "61801406-6aaf-4992-b2a5-a012a645e747",
   "metadata": {},
   "outputs": [
    {
     "data": {
      "text/html": [
       "<div>\n",
       "<style scoped>\n",
       "    .dataframe tbody tr th:only-of-type {\n",
       "        vertical-align: middle;\n",
       "    }\n",
       "\n",
       "    .dataframe tbody tr th {\n",
       "        vertical-align: top;\n",
       "    }\n",
       "\n",
       "    .dataframe thead th {\n",
       "        text-align: right;\n",
       "    }\n",
       "</style>\n",
       "<table border=\"1\" class=\"dataframe\">\n",
       "  <thead>\n",
       "    <tr style=\"text-align: right;\">\n",
       "      <th></th>\n",
       "      <th>CreditScore</th>\n",
       "      <th>Age</th>\n",
       "      <th>Tenure</th>\n",
       "      <th>Balance</th>\n",
       "      <th>NumOfProducts</th>\n",
       "      <th>HasCrCard</th>\n",
       "      <th>IsActiveMember</th>\n",
       "      <th>EstimatedSalary</th>\n",
       "      <th>Exited</th>\n",
       "      <th>Gender_Male</th>\n",
       "      <th>Geography_Germany</th>\n",
       "      <th>Geography_Spain</th>\n",
       "    </tr>\n",
       "  </thead>\n",
       "  <tbody>\n",
       "    <tr>\n",
       "      <th>0</th>\n",
       "      <td>619</td>\n",
       "      <td>42</td>\n",
       "      <td>2</td>\n",
       "      <td>0.00</td>\n",
       "      <td>1</td>\n",
       "      <td>1</td>\n",
       "      <td>1</td>\n",
       "      <td>101348.88</td>\n",
       "      <td>1</td>\n",
       "      <td>False</td>\n",
       "      <td>False</td>\n",
       "      <td>False</td>\n",
       "    </tr>\n",
       "    <tr>\n",
       "      <th>1</th>\n",
       "      <td>608</td>\n",
       "      <td>41</td>\n",
       "      <td>1</td>\n",
       "      <td>83807.86</td>\n",
       "      <td>1</td>\n",
       "      <td>0</td>\n",
       "      <td>1</td>\n",
       "      <td>112542.58</td>\n",
       "      <td>0</td>\n",
       "      <td>False</td>\n",
       "      <td>False</td>\n",
       "      <td>True</td>\n",
       "    </tr>\n",
       "    <tr>\n",
       "      <th>2</th>\n",
       "      <td>502</td>\n",
       "      <td>42</td>\n",
       "      <td>8</td>\n",
       "      <td>159660.80</td>\n",
       "      <td>3</td>\n",
       "      <td>1</td>\n",
       "      <td>0</td>\n",
       "      <td>113931.57</td>\n",
       "      <td>1</td>\n",
       "      <td>False</td>\n",
       "      <td>False</td>\n",
       "      <td>False</td>\n",
       "    </tr>\n",
       "    <tr>\n",
       "      <th>3</th>\n",
       "      <td>699</td>\n",
       "      <td>39</td>\n",
       "      <td>1</td>\n",
       "      <td>0.00</td>\n",
       "      <td>2</td>\n",
       "      <td>0</td>\n",
       "      <td>0</td>\n",
       "      <td>93826.63</td>\n",
       "      <td>0</td>\n",
       "      <td>False</td>\n",
       "      <td>False</td>\n",
       "      <td>False</td>\n",
       "    </tr>\n",
       "    <tr>\n",
       "      <th>4</th>\n",
       "      <td>850</td>\n",
       "      <td>43</td>\n",
       "      <td>2</td>\n",
       "      <td>125510.82</td>\n",
       "      <td>1</td>\n",
       "      <td>1</td>\n",
       "      <td>1</td>\n",
       "      <td>79084.10</td>\n",
       "      <td>0</td>\n",
       "      <td>False</td>\n",
       "      <td>False</td>\n",
       "      <td>True</td>\n",
       "    </tr>\n",
       "  </tbody>\n",
       "</table>\n",
       "</div>"
      ],
      "text/plain": [
       "   CreditScore  Age  Tenure    Balance  NumOfProducts  HasCrCard  \\\n",
       "0          619   42       2       0.00              1          1   \n",
       "1          608   41       1   83807.86              1          0   \n",
       "2          502   42       8  159660.80              3          1   \n",
       "3          699   39       1       0.00              2          0   \n",
       "4          850   43       2  125510.82              1          1   \n",
       "\n",
       "   IsActiveMember  EstimatedSalary  Exited  Gender_Male  Geography_Germany  \\\n",
       "0               1        101348.88       1        False              False   \n",
       "1               1        112542.58       0        False              False   \n",
       "2               0        113931.57       1        False              False   \n",
       "3               0         93826.63       0        False              False   \n",
       "4               1         79084.10       0        False              False   \n",
       "\n",
       "   Geography_Spain  \n",
       "0            False  \n",
       "1             True  \n",
       "2            False  \n",
       "3            False  \n",
       "4             True  "
      ]
     },
     "execution_count": 7,
     "metadata": {},
     "output_type": "execute_result"
    }
   ],
   "source": [
    "df.head()"
   ]
  },
  {
   "cell_type": "code",
   "execution_count": 8,
   "id": "c2df2a23-65d5-47c5-b911-d6fd7bc6cc85",
   "metadata": {},
   "outputs": [],
   "source": [
    "x = df.drop([\"Exited\"], axis = 1)\n",
    "y = df[\"Exited\"]"
   ]
  },
  {
   "cell_type": "code",
   "execution_count": 9,
   "id": "ab1b2d2e-d070-4560-bb49-9548421d534d",
   "metadata": {},
   "outputs": [
    {
     "name": "stderr",
     "output_type": "stream",
     "text": [
      "C:\\Users\\kulka\\AppData\\Local\\Programs\\Python\\Python310\\lib\\site-packages\\sklearn\\utils\\validation.py:757: FutureWarning: is_sparse is deprecated and will be removed in a future version. Check `isinstance(dtype, pd.SparseDtype)` instead.\n",
      "  if not hasattr(array, \"sparse\") and array.dtypes.apply(is_sparse).any():\n",
      "C:\\Users\\kulka\\AppData\\Local\\Programs\\Python\\Python310\\lib\\site-packages\\sklearn\\utils\\validation.py:595: FutureWarning: is_sparse is deprecated and will be removed in a future version. Check `isinstance(dtype, pd.SparseDtype)` instead.\n",
      "  if is_sparse(pd_dtype):\n",
      "C:\\Users\\kulka\\AppData\\Local\\Programs\\Python\\Python310\\lib\\site-packages\\sklearn\\utils\\validation.py:604: FutureWarning: is_sparse is deprecated and will be removed in a future version. Check `isinstance(dtype, pd.SparseDtype)` instead.\n",
      "  if is_sparse(pd_dtype) or not is_extension_array_dtype(pd_dtype):\n",
      "C:\\Users\\kulka\\AppData\\Local\\Programs\\Python\\Python310\\lib\\site-packages\\sklearn\\utils\\validation.py:757: FutureWarning: is_sparse is deprecated and will be removed in a future version. Check `isinstance(dtype, pd.SparseDtype)` instead.\n",
      "  if not hasattr(array, \"sparse\") and array.dtypes.apply(is_sparse).any():\n",
      "C:\\Users\\kulka\\AppData\\Local\\Programs\\Python\\Python310\\lib\\site-packages\\sklearn\\utils\\validation.py:595: FutureWarning: is_sparse is deprecated and will be removed in a future version. Check `isinstance(dtype, pd.SparseDtype)` instead.\n",
      "  if is_sparse(pd_dtype):\n",
      "C:\\Users\\kulka\\AppData\\Local\\Programs\\Python\\Python310\\lib\\site-packages\\sklearn\\utils\\validation.py:604: FutureWarning: is_sparse is deprecated and will be removed in a future version. Check `isinstance(dtype, pd.SparseDtype)` instead.\n",
      "  if is_sparse(pd_dtype) or not is_extension_array_dtype(pd_dtype):\n"
     ]
    }
   ],
   "source": [
    "from sklearn.preprocessing import StandardScaler\n",
    "sc = StandardScaler()\n",
    "x = sc.fit_transform(x)"
   ]
  },
  {
   "cell_type": "code",
   "execution_count": 11,
   "id": "38c0a21b-f6d3-423c-a7de-cffb8462427d",
   "metadata": {},
   "outputs": [
    {
     "data": {
      "text/plain": [
       "array([[-0.32622142,  0.29351742, -1.04175968, ..., -1.09598752,\n",
       "        -0.57873591, -0.57380915],\n",
       "       [-0.44003595,  0.19816383, -1.38753759, ..., -1.09598752,\n",
       "        -0.57873591,  1.74273971],\n",
       "       [-1.53679418,  0.29351742,  1.03290776, ..., -1.09598752,\n",
       "        -0.57873591, -0.57380915],\n",
       "       ...,\n",
       "       [ 0.60498839, -0.27860412,  0.68712986, ..., -1.09598752,\n",
       "        -0.57873591, -0.57380915],\n",
       "       [ 1.25683526,  0.29351742, -0.69598177, ...,  0.91241915,\n",
       "         1.72790383, -0.57380915],\n",
       "       [ 1.46377078, -1.04143285, -0.35020386, ..., -1.09598752,\n",
       "        -0.57873591, -0.57380915]])"
      ]
     },
     "execution_count": 11,
     "metadata": {},
     "output_type": "execute_result"
    }
   ],
   "source": [
    "x"
   ]
  },
  {
   "cell_type": "code",
   "execution_count": 12,
   "id": "f06603cd-5cd3-4b94-9e7a-459e2d274ca5",
   "metadata": {},
   "outputs": [],
   "source": [
    "from sklearn.model_selection import train_test_split\n",
    "x_train, x_test, y_train, y_test = train_test_split(x,y)"
   ]
  },
  {
   "cell_type": "code",
   "execution_count": 15,
   "id": "d3a0f175-0dcc-4fda-89d6-76bb4f39387a",
   "metadata": {},
   "outputs": [],
   "source": [
    "from keras.models import Sequential\n",
    "from keras.layers import Dense"
   ]
  },
  {
   "cell_type": "code",
   "execution_count": 16,
   "id": "4f86c295-2fb0-4bf8-9f9b-e11b1166fd52",
   "metadata": {},
   "outputs": [
    {
     "name": "stdout",
     "output_type": "stream",
     "text": [
      "Epoch 1/50\n",
      "750/750 [==============================] - 5s 4ms/step - loss: 0.5450 - accuracy: 0.7357\n",
      "Epoch 2/50\n",
      "750/750 [==============================] - 3s 4ms/step - loss: 0.4234 - accuracy: 0.8129\n",
      "Epoch 3/50\n",
      "750/750 [==============================] - 3s 4ms/step - loss: 0.3914 - accuracy: 0.8368\n",
      "Epoch 4/50\n",
      "750/750 [==============================] - 3s 3ms/step - loss: 0.3732 - accuracy: 0.8452\n",
      "Epoch 5/50\n",
      "750/750 [==============================] - 3s 3ms/step - loss: 0.3635 - accuracy: 0.8475\n",
      "Epoch 6/50\n",
      "750/750 [==============================] - 3s 4ms/step - loss: 0.3569 - accuracy: 0.8523\n",
      "Epoch 7/50\n",
      "750/750 [==============================] - 3s 4ms/step - loss: 0.3533 - accuracy: 0.8511\n",
      "Epoch 8/50\n",
      "750/750 [==============================] - 3s 4ms/step - loss: 0.3502 - accuracy: 0.8525\n",
      "Epoch 9/50\n",
      "750/750 [==============================] - 3s 4ms/step - loss: 0.3483 - accuracy: 0.8551\n",
      "Epoch 10/50\n",
      "750/750 [==============================] - 3s 4ms/step - loss: 0.3465 - accuracy: 0.8561\n",
      "Epoch 11/50\n",
      "750/750 [==============================] - 3s 4ms/step - loss: 0.3448 - accuracy: 0.8581\n",
      "Epoch 12/50\n",
      "750/750 [==============================] - 3s 4ms/step - loss: 0.3437 - accuracy: 0.8575\n",
      "Epoch 13/50\n",
      "750/750 [==============================] - 3s 4ms/step - loss: 0.3425 - accuracy: 0.8611\n",
      "Epoch 14/50\n",
      "750/750 [==============================] - 3s 4ms/step - loss: 0.3416 - accuracy: 0.8595\n",
      "Epoch 15/50\n",
      "750/750 [==============================] - 3s 4ms/step - loss: 0.3414 - accuracy: 0.8593\n",
      "Epoch 16/50\n",
      "750/750 [==============================] - 3s 4ms/step - loss: 0.3402 - accuracy: 0.8611\n",
      "Epoch 17/50\n",
      "750/750 [==============================] - 3s 4ms/step - loss: 0.3404 - accuracy: 0.8609\n",
      "Epoch 18/50\n",
      "750/750 [==============================] - 3s 4ms/step - loss: 0.3398 - accuracy: 0.8625\n",
      "Epoch 19/50\n",
      "750/750 [==============================] - 3s 4ms/step - loss: 0.3389 - accuracy: 0.8613\n",
      "Epoch 20/50\n",
      "750/750 [==============================] - 3s 4ms/step - loss: 0.3388 - accuracy: 0.8617\n",
      "Epoch 21/50\n",
      "750/750 [==============================] - 3s 4ms/step - loss: 0.3381 - accuracy: 0.8616\n",
      "Epoch 22/50\n",
      "750/750 [==============================] - 3s 4ms/step - loss: 0.3376 - accuracy: 0.8624\n",
      "Epoch 23/50\n",
      "750/750 [==============================] - 3s 4ms/step - loss: 0.3372 - accuracy: 0.8636\n",
      "Epoch 24/50\n",
      "750/750 [==============================] - 3s 4ms/step - loss: 0.3364 - accuracy: 0.8623\n",
      "Epoch 25/50\n",
      "750/750 [==============================] - 3s 4ms/step - loss: 0.3361 - accuracy: 0.8645\n",
      "Epoch 26/50\n",
      "750/750 [==============================] - 3s 4ms/step - loss: 0.3358 - accuracy: 0.8644\n",
      "Epoch 27/50\n",
      "750/750 [==============================] - 3s 4ms/step - loss: 0.3360 - accuracy: 0.8628\n",
      "Epoch 28/50\n",
      "750/750 [==============================] - 3s 4ms/step - loss: 0.3347 - accuracy: 0.8628\n",
      "Epoch 29/50\n",
      "750/750 [==============================] - 3s 4ms/step - loss: 0.3346 - accuracy: 0.8633\n",
      "Epoch 30/50\n",
      "750/750 [==============================] - 3s 4ms/step - loss: 0.3344 - accuracy: 0.8639\n",
      "Epoch 31/50\n",
      "750/750 [==============================] - 3s 4ms/step - loss: 0.3343 - accuracy: 0.8659\n",
      "Epoch 32/50\n",
      "750/750 [==============================] - 3s 4ms/step - loss: 0.3335 - accuracy: 0.8635\n",
      "Epoch 33/50\n",
      "750/750 [==============================] - 3s 4ms/step - loss: 0.3326 - accuracy: 0.8640\n",
      "Epoch 34/50\n",
      "750/750 [==============================] - 3s 4ms/step - loss: 0.3331 - accuracy: 0.8645\n",
      "Epoch 35/50\n",
      "750/750 [==============================] - 3s 4ms/step - loss: 0.3329 - accuracy: 0.8657\n",
      "Epoch 36/50\n",
      "750/750 [==============================] - 3s 4ms/step - loss: 0.3324 - accuracy: 0.8659\n",
      "Epoch 37/50\n",
      "750/750 [==============================] - 3s 4ms/step - loss: 0.3321 - accuracy: 0.8647\n",
      "Epoch 38/50\n",
      "750/750 [==============================] - 3s 4ms/step - loss: 0.3315 - accuracy: 0.8645\n",
      "Epoch 39/50\n",
      "750/750 [==============================] - 3s 3ms/step - loss: 0.3303 - accuracy: 0.8663\n",
      "Epoch 40/50\n",
      "750/750 [==============================] - 3s 4ms/step - loss: 0.3306 - accuracy: 0.8667\n",
      "Epoch 41/50\n",
      "750/750 [==============================] - 3s 4ms/step - loss: 0.3302 - accuracy: 0.8680\n",
      "Epoch 42/50\n",
      "750/750 [==============================] - 3s 4ms/step - loss: 0.3299 - accuracy: 0.8667\n",
      "Epoch 43/50\n",
      "750/750 [==============================] - 3s 4ms/step - loss: 0.3295 - accuracy: 0.8672\n",
      "Epoch 44/50\n",
      "750/750 [==============================] - 3s 4ms/step - loss: 0.3294 - accuracy: 0.8676\n",
      "Epoch 45/50\n",
      "750/750 [==============================] - 3s 4ms/step - loss: 0.3286 - accuracy: 0.8687\n",
      "Epoch 46/50\n",
      "750/750 [==============================] - 3s 4ms/step - loss: 0.3291 - accuracy: 0.8671\n",
      "Epoch 47/50\n",
      "750/750 [==============================] - 3s 4ms/step - loss: 0.3288 - accuracy: 0.8665\n",
      "Epoch 48/50\n",
      "750/750 [==============================] - 3s 3ms/step - loss: 0.3282 - accuracy: 0.8683\n",
      "Epoch 49/50\n",
      "750/750 [==============================] - 3s 3ms/step - loss: 0.3272 - accuracy: 0.8667\n",
      "Epoch 50/50\n",
      "750/750 [==============================] - 3s 4ms/step - loss: 0.3275 - accuracy: 0.8683\n"
     ]
    },
    {
     "data": {
      "text/plain": [
       "<keras.src.callbacks.History at 0x2a92bf09120>"
      ]
     },
     "execution_count": 16,
     "metadata": {},
     "output_type": "execute_result"
    }
   ],
   "source": [
    "model = Sequential()\n",
    "model.add(Dense(activation = 'relu', units = 6))\n",
    "model.add(Dense(activation = 'relu', units = 6))\n",
    "model.add(Dense(activation = 'sigmoid', units = 1))\n",
    "model.compile(optimizer = 'adam', loss = 'binary_crossentropy', metrics = ['accuracy'])\n",
    "model.fit(x_train, y_train, batch_size = 10, epochs = 50)"
   ]
  },
  {
   "cell_type": "code",
   "execution_count": 17,
   "id": "77aab3bb-8008-40b8-9890-d118029edd38",
   "metadata": {},
   "outputs": [
    {
     "name": "stdout",
     "output_type": "stream",
     "text": [
      "79/79 [==============================] - 1s 3ms/step\n"
     ]
    }
   ],
   "source": [
    "y_pred = model.predict(x_test)\n",
    "y_pred = (y_pred > 0.5)"
   ]
  },
  {
   "cell_type": "code",
   "execution_count": 18,
   "id": "e6725875-7c2d-4b9d-be37-a3ffd471f50b",
   "metadata": {},
   "outputs": [
    {
     "name": "stdout",
     "output_type": "stream",
     "text": [
      "Accuracy:  0.8576\n"
     ]
    }
   ],
   "source": [
    "\n",
    "from sklearn.metrics import accuracy_score\n",
    "print(\"Accuracy: \", accuracy_score(y_test, y_pred))"
   ]
  },
  {
   "cell_type": "code",
   "execution_count": 19,
   "id": "9c8ce094-6f8d-4182-a07d-5162281e616f",
   "metadata": {},
   "outputs": [
    {
     "data": {
      "text/plain": [
       "array([[1910,   82],\n",
       "       [ 274,  234]], dtype=int64)"
      ]
     },
     "execution_count": 19,
     "metadata": {},
     "output_type": "execute_result"
    }
   ],
   "source": [
    "from sklearn.metrics import confusion_matrix\n",
    "cm = confusion_matrix(y_test, y_pred)\n",
    "cm"
   ]
  },
  {
   "cell_type": "code",
   "execution_count": null,
   "id": "00d616b8-5eb5-41de-9ba3-ea8e066075e2",
   "metadata": {},
   "outputs": [],
   "source": []
  }
 ],
 "metadata": {
  "kernelspec": {
   "display_name": "Python 3 (ipykernel)",
   "language": "python",
   "name": "python3"
  },
  "language_info": {
   "codemirror_mode": {
    "name": "ipython",
    "version": 3
   },
   "file_extension": ".py",
   "mimetype": "text/x-python",
   "name": "python",
   "nbconvert_exporter": "python",
   "pygments_lexer": "ipython3",
   "version": "3.10.9"
  }
 },
 "nbformat": 4,
 "nbformat_minor": 5
}
